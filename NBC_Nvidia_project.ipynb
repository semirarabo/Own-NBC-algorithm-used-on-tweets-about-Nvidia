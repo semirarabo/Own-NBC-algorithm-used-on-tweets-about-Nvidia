{
 "cells": [
  {
   "cell_type": "markdown",
   "metadata": {
    "id": "lTp6FN1Bm8Mt"
   },
   "source": [
    "### Learning from Big Data: Module 1 - Final Assignment\n",
    "\n",
    "\n",
    "\n",
    "\n",
    "\n",
    "# Relationship between Tweets sentiment and Stock price\n",
    "\n",
    "\n",
    "Author: Semir Arabo\n",
    "\n",
    "Date:   09/22/2024\n",
    "\n",
    "\n",
    ".\n",
    "\n",
    "\n",
    "# Data Sources:\n",
    "\n",
    "\n",
    "**UGC  dataset** (Tweets about Nvidia) was retrieved from [here](https://www.kaggle.com/datasets/soheiltehranipour/100k-nvidia-tweets) and uploaded as \"Nvidia-Tweets.csv\"\n",
    "\n",
    "**Corpus** used for Lexicon creation (a dataset of labaled Tweets) was retrieved from [here](https://www.researchgate.net/figure/Sample-data-from-Sentiment-140-dataset_fig1_369319715) and uploaded as \"training.160000000.processed.noemoticon.csv\"\n",
    "\n",
    "**Financial data** (Nvidia stock price) were retrieved from Yahoo finance using \"yfinance\" library\n",
    "\n",
    "\n"
   ]
  },
  {
   "cell_type": "markdown",
   "metadata": {
    "id": "AtLcc9xluL5q"
   },
   "source": [
    "The proliferation of user-generated content on social media platforms like Twitter has opened up new avenues for understanding public sentiment and its potential impact on financial markets. This project investigates the intricate relationship between sentiment expressed in tweets and stock price fluctuations, focusing on Nvidia as a case study. We leverage Natural Language Processing (NLP) techniques, specifically a Naive Bayes Classifier (NBC), to analyze tweets related to Nvidia and extract quantifiable sentiment scores.\n",
    "\n",
    "The NBC model, trained on a labeled corpus of tweets, enables us to classify tweets into distinct sentiment categories, providing a nuanced understanding of public opinion towards Nvidia. This granular sentiment analysis allows us to investigate the correlation between sentiment trends and stock price movements. By examining historical stock price data from Yahoo Finance and aligning it with the temporal distribution of sentiment scores, we aim to uncover statistically significant relationships and explore the predictive capacity of public sentiment derived from Twitter data. This endeavor requires careful data preprocessing, feature engineering, and rigorous statistical analysis to establish a robust framework for understanding the interplay between social media sentiment and market dynamics."
   ]
  },
  {
   "cell_type": "code",
   "execution_count": 227,
   "metadata": {
    "colab": {
     "base_uri": "https://localhost:8080/"
    },
    "collapsed": true,
    "id": "BiLyci6NVt8Z",
    "outputId": "26881d0d-a485-4727-bf7b-d2e4c58992b4"
   },
   "outputs": [
    {
     "name": "stdout",
     "output_type": "stream",
     "text": [
      "  Unnamed: 0                   Datetime      Tweet Id  \\\n",
      "0          0  2023-02-06 10:07:17+00:00  1.622537e+18   \n",
      "1          1  2023-02-06 10:06:30+00:00  1.622537e+18   \n",
      "2          2  2023-02-06 10:06:08+00:00  1.622537e+18   \n",
      "3          3  2023-02-06 10:05:43+00:00  1.622537e+18   \n",
      "4          4  2023-02-06 10:03:49+00:00  1.622537e+18   \n",
      "\n",
      "                                                Text        Username  \n",
      "0  $nvda  Top analyst price target for next week ...  RyderJohnston6  \n",
      "1  $nvda Top analyst price target for this week.🔗...        k_mebane  \n",
      "2  $nvda Top analyst price target for next week.....    RonaldBevan2  \n",
      "3  $NVDA Top analyst target price for next week🚀 ...       Eva077777  \n",
      "4  $rsls rebound 🚨🚨🚀🚀🚀\\n————\\n\\n$EDSA\\n$KODK\\n$DO...  MrBlackTrading  \n",
      "                         Unnamed: 0   Datetime    Text        Username\n",
      "count                        100847     100369  100001           99633\n",
      "unique                       100454      98265   91090            8684\n",
      "top     Via https://t.co/OPL1OPSbnQ  topstonks   $NVDA  nappedonthebed\n",
      "freq                            325        349     239            5113\n",
      "Index(['Unnamed: 0', 'Datetime', 'Tweet Id', 'Text', 'Username'], dtype='object')\n"
     ]
    }
   ],
   "source": [
    "import pandas as pd\n",
    "\n",
    "df = pd.read_csv('Nvidia-Tweets.csv')\n",
    "\n",
    "print(df.head())\n",
    "print(df.describe(include='object'))\n",
    "\n",
    "column_names = df.columns\n",
    "print(column_names)"
   ]
  },
  {
   "cell_type": "code",
   "execution_count": 228,
   "metadata": {
    "colab": {
     "base_uri": "https://localhost:8080/"
    },
    "id": "T2XqH_UAa5B4",
    "outputId": "c8b76f75-1cd0-4598-8da7-bfa275ec6f56"
   },
   "outputs": [
    {
     "name": "stdout",
     "output_type": "stream",
     "text": [
      "                        Time  \\\n",
      "0  2023-02-06 10:07:17+00:00   \n",
      "1  2023-02-06 10:06:30+00:00   \n",
      "2  2023-02-06 10:06:08+00:00   \n",
      "3  2023-02-06 10:05:43+00:00   \n",
      "4  2023-02-06 10:03:49+00:00   \n",
      "\n",
      "                                                Text  \n",
      "0  $nvda  Top analyst price target for next week ...  \n",
      "1  $nvda Top analyst price target for this week.🔗...  \n",
      "2  $nvda Top analyst price target for next week.....  \n",
      "3  $NVDA Top analyst target price for next week🚀 ...  \n",
      "4  $rsls rebound 🚨🚨🚀🚀🚀\\n————\\n\\n$EDSA\\n$KODK\\n$DO...  \n",
      "<class 'pandas.core.frame.DataFrame'>\n",
      "Index: 100001 entries, 0 to 100846\n",
      "Data columns (total 2 columns):\n",
      " #   Column  Non-Null Count   Dtype \n",
      "---  ------  --------------   ----- \n",
      " 0   Time    100001 non-null  object\n",
      " 1   Text    100001 non-null  object\n",
      "dtypes: object(2)\n",
      "memory usage: 2.3+ MB\n",
      "None\n"
     ]
    }
   ],
   "source": [
    "#cleaning\n",
    "df = df.drop(columns = ['Unnamed: 0', 'Tweet Id', 'Username'], axis=1)\n",
    "df.dropna(inplace=True)\n",
    "df.rename(columns={'Datetime': 'Time'}, inplace=True)\n",
    "df.drop_duplicates(inplace=True)\n",
    "\n",
    "print(df.head())\n",
    "print(df.info())\n",
    "\n"
   ]
  },
  {
   "cell_type": "code",
   "execution_count": 258,
   "metadata": {
    "colab": {
     "base_uri": "https://localhost:8080/"
    },
    "id": "Nle8bzMGJh2j",
    "outputId": "d0614454-c09e-4266-ebcc-fbfb549f57d5"
   },
   "outputs": [
    {
     "name": "stdout",
     "output_type": "stream",
     "text": [
      "<class 'pandas.core.frame.DataFrame'>\n",
      "RangeIndex: 18899 entries, 0 to 18898\n",
      "Data columns (total 2 columns):\n",
      " #   Column  Non-Null Count  Dtype \n",
      "---  ------  --------------  ----- \n",
      " 0   Time    18899 non-null  object\n",
      " 1   Text    18899 non-null  object\n",
      "dtypes: object(2)\n",
      "memory usage: 295.4+ KB\n",
      "None\n"
     ]
    }
   ],
   "source": [
    "#drop advertisments\n",
    "\n",
    "ad_keywords = ['Top analyst price target for',\"http\", 'Limited offer', \"Click here\", \"Visit our website\", \"Discover more\"]\n",
    "for keyword in ad_keywords:\n",
    "    df = df[~df['Text'].str.contains(keyword, case = False)]\n",
    "\n",
    "df = df.reset_index(drop=True)\n",
    "print(df.info())\n"
   ]
  },
  {
   "cell_type": "code",
   "execution_count": 231,
   "metadata": {
    "colab": {
     "base_uri": "https://localhost:8080/"
    },
    "id": "2ekv0kqWbQPp",
    "outputId": "54f33cd8-054f-48a5-d94f-ced63137acf8"
   },
   "outputs": [
    {
     "name": "stdout",
     "output_type": "stream",
     "text": [
      "Min: 2022-11-21 14:30:16+00:00 Max: 2023-02-06 10:06:30+00:00\n"
     ]
    }
   ],
   "source": [
    "#Date range\n",
    "print(\"Min:\",df['Time'].min(), \"Max:\",df['Time'].max())"
   ]
  },
  {
   "cell_type": "code",
   "execution_count": 59,
   "metadata": {
    "colab": {
     "base_uri": "https://localhost:8080/"
    },
    "collapsed": true,
    "id": "5iiJqfLdnm6y",
    "outputId": "5d472c8f-cbe3-4b2d-9e0c-1f4a903f61f9"
   },
   "outputs": [
    {
     "name": "stderr",
     "output_type": "stream",
     "text": [
      "\r",
      "[*********************100%***********************]  1 of 1 completed"
     ]
    },
    {
     "name": "stdout",
     "output_type": "stream",
     "text": [
      "                 Open  Adj Close  Per Change  Change\n",
      "Date                                                \n",
      "2022-11-21  15.147000  15.303007         NaN       0\n",
      "2022-11-22  15.328000  16.023348    0.163320       0\n",
      "2022-11-23  16.098000  16.503908    0.465893       0\n",
      "2022-11-25  16.318001  16.255136   -1.126444       0\n",
      "2022-11-28  16.025999  15.812541   -1.409631       0\n",
      "2022-11-29  15.827000  15.624713    0.091438       0\n",
      "2022-11-30  15.697000  16.911865    0.462643       0\n",
      "2022-12-01  16.999001  17.123728    0.515232       0\n",
      "2022-12-02  16.659000  16.864895   -2.713938      -1\n",
      "2022-12-05  16.679001  16.599072   -1.102254       0\n",
      "2022-12-06  16.530001  15.976481   -0.416113       0\n",
      "2022-12-07  15.772000  16.109394   -1.279888       0\n",
      "2022-12-08  16.273001  17.157705    1.015598       0\n",
      "2022-12-09  17.160000  16.989815    0.013373       0\n",
      "2022-12-12  17.037001  17.523462    0.277731       0\n",
      "2022-12-13  18.531000  18.060110    5.749651       1\n",
      "2022-12-14  17.987000  17.662373   -0.404818       0\n",
      "2022-12-15  17.146000  16.940845   -2.923575      -1\n",
      "2022-12-16  16.864000  16.560095   -0.453609       0\n",
      "2022-12-19  16.572001  16.243303    0.071894       0\n",
      "2022-12-20  16.063999  16.074417   -1.103865       0\n",
      "2022-12-21  16.114000  16.490141    0.246250       0\n",
      "2022-12-22  16.094000  15.328906   -2.402290      -1\n",
      "2022-12-23  15.196000  15.195996   -0.867028       0\n",
      "2022-12-27  15.074000  14.111710   -0.802816       0\n",
      "2022-12-28  13.927000  14.026765   -1.308910       0\n",
      "2022-12-29  14.402000  14.593390    2.675140       1\n",
      "2022-12-30  14.334000  14.604384   -1.777454       0\n",
      "2023-01-03  14.851000  14.305580    1.688640       0\n",
      "2023-01-04  14.567000  14.739294    1.827401       0\n",
      "2023-01-05  14.491000  14.255614   -1.684571       0\n",
      "2023-01-06  14.474000  14.849224    1.531928       0\n",
      "2023-01-09  15.284000  15.617718    2.927940       1\n",
      "2023-01-10  15.507000  15.898534   -0.708924       0\n",
      "2023-01-11  15.840000  15.990471   -0.368170       0\n",
      "2023-01-12  16.100000  16.500135    0.684967       0\n",
      "2023-01-13  16.278000  16.887882   -1.346265       0\n",
      "2023-01-17  16.899000  17.690350    0.065834       0\n",
      "2023-01-18  17.667000  17.365568   -0.131992       0\n",
      "2023-01-19  17.035999  16.753967   -1.897829       0\n",
      "2023-01-20  17.011000  17.827265    1.534158       0\n",
      "2023-01-23  18.063999  19.180372    1.327934       0\n",
      "2023-01-24  18.827000  19.252321   -1.842366       0\n",
      "2023-01-25  18.913000  19.310286   -1.762495       0\n",
      "2023-01-26  19.701000  19.788971    2.023350       1\n",
      "2023-01-27  19.462000  20.351599   -1.652289       0\n",
      "2023-01-30  19.950001  19.149391   -1.973299       0\n",
      "2023-01-31  19.170000  19.524147    0.107622       0\n",
      "2023-02-01  19.691000  20.929222    0.854598       0\n",
      "2023-02-02  21.000000  21.694717    0.338177       0\n",
      "2023-02-03  21.000000  21.086119   -3.202242      -1\n",
      "2023-02-06  20.806000  21.075123   -1.328452       0\n"
     ]
    },
    {
     "name": "stderr",
     "output_type": "stream",
     "text": [
      "\n",
      "<ipython-input-59-cc72a162cf1a>:14: SettingWithCopyWarning: \n",
      "A value is trying to be set on a copy of a slice from a DataFrame.\n",
      "Try using .loc[row_indexer,col_indexer] = value instead\n",
      "\n",
      "See the caveats in the documentation: https://pandas.pydata.org/pandas-docs/stable/user_guide/indexing.html#returning-a-view-versus-a-copy\n",
      "  nvidia_prices['Per Change'] = 100*(nvidia_prices['Open'] / nvidia_prices['Adj Close'].shift(1) - 1)\n",
      "<ipython-input-59-cc72a162cf1a>:15: SettingWithCopyWarning: \n",
      "A value is trying to be set on a copy of a slice from a DataFrame.\n",
      "Try using .loc[row_indexer,col_indexer] = value instead\n",
      "\n",
      "See the caveats in the documentation: https://pandas.pydata.org/pandas-docs/stable/user_guide/indexing.html#returning-a-view-versus-a-copy\n",
      "  nvidia_prices['Change'] = np.where(nvidia_prices['Per Change'] > 2, 1,\n"
     ]
    }
   ],
   "source": [
    "#constructing the stock market change variable\n",
    "import yfinance as yf\n",
    "import numpy as np\n",
    "\n",
    "ticker_symbol = 'NVDA'\n",
    "start_date = '2022-11-20'\n",
    "end_date = '2023-02-07'\n",
    "\n",
    "nvidia_data = yf.download(ticker_symbol, start=start_date, end=end_date)\n",
    "\n",
    "nvidia_prices = nvidia_data[['Open', 'Adj Close']]\n",
    "\n",
    "\n",
    "nvidia_prices['Per Change'] = 100*(nvidia_prices['Open'] / nvidia_prices['Adj Close'].shift(1) - 1)\n",
    "nvidia_prices['Change'] = np.where(nvidia_prices['Per Change'] > 2, 1,\n",
    "                                    np.where(nvidia_prices['Per Change'] < -2, -1, 0))\n",
    "print(nvidia_prices)"
   ]
  },
  {
   "cell_type": "code",
   "execution_count": 287,
   "metadata": {
    "colab": {
     "base_uri": "https://localhost:8080/"
    },
    "collapsed": true,
    "id": "sSqvPIKeWQKz",
    "outputId": "e35f34f5-a445-4e04-fd70-984808d3028c"
   },
   "outputs": [
    {
     "name": "stdout",
     "output_type": "stream",
     "text": [
      "DatetimeIndex(['2022-12-13', '2022-12-29', '2023-01-09', '2023-01-26'], dtype='datetime64[ns]', name='Date', freq=None)\n",
      "DatetimeIndex(['2022-12-02', '2022-12-15', '2022-12-22', '2023-02-03'], dtype='datetime64[ns]', name='Date', freq=None)\n",
      "DatetimeIndex(['2022-11-28', '2022-11-21', '2022-11-23', '2023-01-13'], dtype='datetime64[ns]', name='Date', freq=None)\n"
     ]
    }
   ],
   "source": [
    "positive_days = nvidia_prices[nvidia_prices['Change'] == 1].index\n",
    "negative_days = nvidia_prices[nvidia_prices['Change'] == -1].index\n",
    "neutral_days = nvidia_prices[nvidia_prices['Change'] == 0].sample(n=4).index\n",
    "print(positive_days)\n",
    "print(negative_days)\n",
    "print(neutral_days)"
   ]
  },
  {
   "cell_type": "code",
   "execution_count": 289,
   "metadata": {
    "colab": {
     "base_uri": "https://localhost:8080/"
    },
    "collapsed": true,
    "id": "k6lvBAj-Yjgu",
    "outputId": "290d6ca0-b9b1-4c31-9b49-8b586c21972a"
   },
   "outputs": [
    {
     "name": "stdout",
     "output_type": "stream",
     "text": [
      "                            Time  \\\n",
      "14099  2022-12-14 23:56:53+00:00   \n",
      "14100  2022-12-14 23:54:33+00:00   \n",
      "14101  2022-12-14 23:51:37+00:00   \n",
      "14102  2022-12-14 23:50:45+00:00   \n",
      "14103  2022-12-14 23:47:07+00:00   \n",
      "...                          ...   \n",
      "3833   2023-01-26 00:16:35+00:00   \n",
      "3834   2023-01-26 00:09:19+00:00   \n",
      "3835   2023-01-26 00:02:38+00:00   \n",
      "3836   2023-01-26 00:02:09+00:00   \n",
      "3837   2023-01-26 00:01:44+00:00   \n",
      "\n",
      "                                                    Text  \n",
      "14099  $TSLA &amp; $NVDA …….\\n\\nSee you at $120/$130....  \n",
      "14100  @mikefichera @MrTopStep I hear ya. \\n\\nBear ma...  \n",
      "14101                  @StockMKTNewz Time to short $nvda  \n",
      "14102  Nvidia CEO Jensen Huang just triggered employe...  \n",
      "14103  @mikefichera @MrTopStep $NVDA powers a ton of ...  \n",
      "...                                                  ...  \n",
      "3833   Elon Musk는 Tesla $TSLA 'DOJO 슈퍼컴퓨터'가 올해 $NVDA ...  \n",
      "3834                         $NVDA get excited over $200  \n",
      "3835   @AjTrader7 AJ- you called market direction per...  \n",
      "3836   @MattchengBtm I didn’t take $NVDA but it was o...  \n",
      "3837   @DriveTeslaca @SawyerMerritt @Tesla @elonmusk ...  \n",
      "\n",
      "[698 rows x 2 columns]\n"
     ]
    }
   ],
   "source": [
    "#Choose 300 tweets from time when NASDAQ Stock market is closed\n",
    "from datetime import datetime, timedelta\n",
    "\n",
    "during_positive_tweets = []\n",
    "for day in positive_days:\n",
    "    day_str = day.strftime('%Y-%m-%d')\n",
    "    next_day_str = (day + timedelta(days=1)).strftime('%Y-%m-%d')\n",
    "\n",
    "    for index, row in df.iterrows():\n",
    "        tweet_time = datetime.strptime(row['Time'], '%Y-%m-%d %H:%M:%S%z')\n",
    "        if (tweet_time.strftime('%Y-%m-%d') == day_str and tweet_time.hour < 9 and tweet_time.minute < 30) or \\\n",
    "           (tweet_time.strftime('%Y-%m-%d') == next_day_str and tweet_time.hour >= 16 and tweet_time.minute > 0):\n",
    "            during_positive_tweets.append(row)\n",
    "\n",
    "during_positive_tweets = pd.DataFrame(during_positive_tweets)\n",
    "print(during_positive_tweets)"
   ]
  },
  {
   "cell_type": "code",
   "execution_count": 290,
   "metadata": {
    "id": "boatMyinZalE"
   },
   "outputs": [],
   "source": [
    "during_negative_tweets = []\n",
    "for day in negative_days:\n",
    "    day_str = day.strftime('%Y-%m-%d')\n",
    "    next_day_str = (day + timedelta(days=1)).strftime('%Y-%m-%d')\n",
    "\n",
    "    for index, row in df.iterrows():\n",
    "        tweet_time = datetime.strptime(row['Time'], '%Y-%m-%d %H:%M:%S%z')\n",
    "        if (tweet_time.strftime('%Y-%m-%d') == day_str and tweet_time.hour < 9 and tweet_time.minute < 30) or \\\n",
    "           (tweet_time.strftime('%Y-%m-%d') == next_day_str and tweet_time.hour >= 16 and tweet_time.minute > 0):\n",
    "            during_negative_tweets.append(row)\n",
    "\n",
    "during_negative_tweets = pd.DataFrame(during_negative_tweets)"
   ]
  },
  {
   "cell_type": "code",
   "execution_count": 291,
   "metadata": {
    "id": "c5VbMUPUZ8nT"
   },
   "outputs": [],
   "source": [
    "during_neutral_tweets = []\n",
    "for day in neutral_days:\n",
    "    day_str = day.strftime('%Y-%m-%d')\n",
    "    next_day_str = (day + timedelta(days=1)).strftime('%Y-%m-%d')\n",
    "\n",
    "    for index, row in df.iterrows():\n",
    "        tweet_time = datetime.strptime(row['Time'], '%Y-%m-%d %H:%M:%S%z')\n",
    "        if (tweet_time.strftime('%Y-%m-%d') == day_str and tweet_time.hour < 9 and tweet_time.minute < 30) or \\\n",
    "           (tweet_time.strftime('%Y-%m-%d') == next_day_str and tweet_time.hour >= 16 and tweet_time.minute > 0):\n",
    "            during_neutral_tweets.append(row)\n",
    "\n",
    "during_neutral_tweets = pd.DataFrame(during_neutral_tweets)"
   ]
  },
  {
   "cell_type": "code",
   "execution_count": 293,
   "metadata": {
    "colab": {
     "base_uri": "https://localhost:8080/"
    },
    "id": "NcLW4iCXawG0",
    "outputId": "ac6f50aa-bd43-44de-cb75-d1cebf7a899d"
   },
   "outputs": [
    {
     "name": "stdout",
     "output_type": "stream",
     "text": [
      "                          Time  \\\n",
      "0    2022-12-30 21:28:22+00:00   \n",
      "1    2022-12-30 17:40:36+00:00   \n",
      "2    2023-02-04 19:55:09+00:00   \n",
      "3    2023-01-27 16:04:06+00:00   \n",
      "4    2022-11-29 20:49:09+00:00   \n",
      "..                         ...   \n",
      "295  2022-11-29 16:04:54+00:00   \n",
      "296  2023-01-27 21:10:32+00:00   \n",
      "297  2022-11-22 16:45:11+00:00   \n",
      "298  2023-01-27 17:43:23+00:00   \n",
      "299  2023-01-27 19:46:12+00:00   \n",
      "\n",
      "                                                  Text  Market Sentiment  \n",
      "0    Stock\\nPositions [12/30/2022] High/Low $AAPL $...                 1  \n",
      "1    Trimmed some $NVDA for $0.35, mkt at a key spo...                 1  \n",
      "2    BEGINNER OPTIONS PACK \\n\\n- $500 to $2,500 cas...                -1  \n",
      "3    I agree $NVDA and $AMD and $QCOM are the futur...                 1  \n",
      "4    Trade For Me App - 03:49:04 - 14 period RSI cr...                 0  \n",
      "..                                                 ...               ...  \n",
      "295  Amazon has been working on Chips for a while. ...                 0  \n",
      "296               $NVDA SBC is getting out of control…                 1  \n",
      "297  The 9EMA D-rider algo smash $NVDA pushing it h...                 0  \n",
      "298  In all honesty, I'm very proud of how much I'v...                 1  \n",
      "299  $tsla on pace to get +6500% for the year 🚀🚀🚀\\n...                 1  \n",
      "\n",
      "[300 rows x 3 columns]\n"
     ]
    }
   ],
   "source": [
    "\n",
    "all_tweets = pd.concat([during_positive_tweets, during_neutral_tweets, during_negative_tweets])\n",
    "\n",
    "\n",
    "all_tweets['Market Sentiment'] = 0\n",
    "all_tweets.loc[all_tweets.index.isin(during_positive_tweets.index), 'Market Sentiment'] = 1\n",
    "all_tweets.loc[all_tweets.index.isin(during_negative_tweets.index), 'Market Sentiment'] = -1\n",
    "\n",
    "all_tweets = all_tweets.sample(n=300)\n",
    "all_tweets = all_tweets.reset_index(drop=True)\n",
    "print(all_tweets)"
   ]
  },
  {
   "cell_type": "code",
   "execution_count": 157,
   "metadata": {
    "colab": {
     "base_uri": "https://localhost:8080/",
     "height": 472
    },
    "id": "0hyQ664DvZIp",
    "outputId": "f9b2271f-d0d8-435c-b26f-8ad707c04aa0"
   },
   "outputs": [
    {
     "data": {
      "image/png": "[encoded data removed]",
      "text/plain": [
       "<Figure size 640x480 with 1 Axes>"
      ]
     },
     "metadata": {},
     "output_type": "display_data"
    }
   ],
   "source": [
    "#Check if P and N sentiment has equal representation\n",
    "import matplotlib.pyplot as plt\n",
    "plt.hist(corpus['sentiment'])\n",
    "plt.xlabel('Sentiment')\n",
    "plt.ylabel('Frequency')\n",
    "plt.title('Histogram of Sentiment')\n",
    "plt.show()"
   ]
  },
  {
   "cell_type": "code",
   "execution_count": 156,
   "metadata": {
    "colab": {
     "base_uri": "https://localhost:8080/"
    },
    "id": "AfhcldhLiap_",
    "outputId": "3ba7375b-b364-4a52-eee5-521d06129bb0"
   },
   "outputs": [
    {
     "name": "stderr",
     "output_type": "stream",
     "text": [
      "<ipython-input-156-9a3a227c6be9>:3: DtypeWarning: Columns (0,1) have mixed types. Specify dtype option on import or set low_memory=False.\n",
      "  corpus = pd.read_csv('training.1600000.processed.noemoticon.csv', encoding='latin-1', names=['sentiment', 'id', 'date', 'flag', 'user', 'text'])\n"
     ]
    },
    {
     "name": "stdout",
     "output_type": "stream",
     "text": [
      "800000\n",
      "        sentiment                                               text\n",
      "527236          4               jeffspi that is hilarious  brilliant\n",
      "202477          4  buenos dï¿½as cï¿½mo estï¿½s it is a beautiful...\n",
      "515447          4  annamariapdt you have an amazing voice are you...\n",
      "730482          4          imma finallaye done with the prelim pprs \n",
      "163275          4  ralphp 445  good luck i hope yall are doing we...\n",
      "...           ...                                                ...\n",
      "70191           0  sick  spending my day laying in bed listening ...\n",
      "70192           0                                     gmail is down \n",
      "70193           0                       rest in peace farrah so sad \n",
      "70194           0  ericurbane sounds like a rival is flagging you...\n",
      "70195           0  has to resit exams over summer  wishes he work...\n",
      "\n",
      "[140390 rows x 2 columns]\n"
     ]
    }
   ],
   "source": [
    "#preproces corpus\n",
    "import string\n",
    "corpus = pd.read_csv('training.1600000.processed.noemoticon.csv', encoding='latin-1', names=['sentiment', 'id', 'date', 'flag', 'user', 'text'])\n",
    "\n",
    "corpus = corpus[['sentiment', 'text']]\n",
    "corpus = corpus.dropna()\n",
    "corpus['text'] = corpus['text'].str.lower()\n",
    "corpus['sentiment'] = corpus['sentiment'].astype(int)\n",
    "corpus['text'] = corpus['text'].str.translate(str.maketrans('', '', string.punctuation))\n",
    "print((corpus['sentiment'] == 4).sum())\n",
    "\n",
    "#make the number of tweets the same for positive and negative\n",
    "num_negatives = (corpus['sentiment'] == 0).sum()\n",
    "few_positives = corpus.sample(n=num_negatives, random_state=1)\n",
    "eq_corpus = pd.concat([few_positives, corpus[corpus['sentiment'] == 0]])\n",
    "print(eq_corpus)\n"
   ]
  },
  {
   "cell_type": "code",
   "execution_count": 168,
   "metadata": {
    "id": "tyxO670Aqh1Q"
   },
   "outputs": [],
   "source": [
    "#from corpus create a lexicon\n",
    "\n",
    "from collections import Counter\n",
    "\n",
    "\n",
    "texts = eq_corpus['text'].tolist()\n",
    "targets = eq_corpus['sentiment'].tolist()\n",
    "\n",
    "all_text = ' '.join(texts)\n",
    "\n",
    "words = all_text.lower().split()\n",
    "word_counts = Counter(words)\n",
    "\n",
    "\n",
    "positive_counts = Counter()\n",
    "negative_counts = Counter()\n",
    "for i, text in enumerate(texts):\n",
    "    sentiment = targets[i]\n",
    "    if sentiment == 4:\n",
    "        positive_counts.update(text.lower().split())\n",
    "    elif sentiment == 0:\n",
    "        negative_counts.update(text.lower().split())\n",
    "\n",
    "\n",
    "lexicon = []\n",
    "for word, count in word_counts.items():\n",
    "    lexicon.append({\n",
    "        'word': word,\n",
    "        'word count': count,\n",
    "        'positive word count': positive_counts[word],\n",
    "        'negative word count': negative_counts[word]\n",
    "    })\n",
    "\n",
    "lexicon_df = pd.DataFrame(lexicon)\n",
    "\n"
   ]
  },
  {
   "cell_type": "code",
   "execution_count": 169,
   "metadata": {
    "colab": {
     "base_uri": "https://localhost:8080/"
    },
    "id": "EGAY003Nti86",
    "outputId": "204db0f3-8442-42f2-b03c-7b36fef39f6d"
   },
   "outputs": [
    {
     "name": "stdout",
     "output_type": "stream",
     "text": [
      "            word  word count  positive word count  negative word count\n",
      "0        jeffspi           1                    1                    0\n",
      "3      hilarious         114                   98                   16\n",
      "4      brilliant          94                   73                   21\n",
      "5         buenos           6                    6                    0\n",
      "6         dï¿½as           1                    1                    0\n",
      "7         cï¿½mo           1                    1                    0\n",
      "8        estï¿½s           2                    2                    0\n",
      "11     beautiful         677                  497                  180\n",
      "12         sunny         371                  229                  142\n",
      "13       morning        2789                 1643                 1146\n",
      "16          plan         251                  147                  104\n",
      "18         start         857                  433                  424\n",
      "19         study         284                   81                  203\n",
      "21          soon        1473                  730                  743\n",
      "22  annamariapdt           1                    1                    0\n",
      "26       amazing         921                  690                  231\n",
      "27         voice         266                   89                  177\n",
      "29     releasing          12                    4                    8\n",
      "30         album         287                  177                  110\n",
      "31          love        5394                 3772                 1622\n"
     ]
    },
    {
     "name": "stderr",
     "output_type": "stream",
     "text": [
      "[nltk_data] Downloading package stopwords to /root/nltk_data...\n",
      "[nltk_data]   Package stopwords is already up-to-date!\n"
     ]
    }
   ],
   "source": [
    "# Remove stop words from the lexicon\n",
    "import nltk\n",
    "from nltk.corpus import stopwords\n",
    "\n",
    "nltk.download('stopwords')\n",
    "\n",
    "\n",
    "stop_words = set(stopwords.words('english'))\n",
    "lexicon_df = lexicon_df[~lexicon_df['word'].isin(stop_words)]\n",
    "\n",
    "print(lexicon_df.head(20))"
   ]
  },
  {
   "cell_type": "code",
   "execution_count": 269,
   "metadata": {
    "colab": {
     "base_uri": "https://localhost:8080/"
    },
    "id": "hERSvPkpIlaX",
    "outputId": "7298fff4-2ce6-4c82-9aa8-d37f1a5c7e15"
   },
   "outputs": [
    {
     "name": "stdout",
     "output_type": "stream",
     "text": [
      "            word  positive  negative\n",
      "0        jeffspi  0.666667  0.333333\n",
      "3      hilarious  0.853448  0.146552\n",
      "4      brilliant  0.770833  0.229167\n",
      "5         buenos  0.875000  0.125000\n",
      "6         dï¿½as  0.666667  0.333333\n",
      "7         cï¿½mo  0.666667  0.333333\n",
      "8        estï¿½s  0.750000  0.250000\n",
      "11     beautiful  0.733432  0.266568\n",
      "12         sunny  0.616622  0.383378\n",
      "13       morning  0.589036  0.410964\n",
      "16          plan  0.584980  0.415020\n",
      "18         start  0.505239  0.494761\n",
      "19         study  0.286713  0.713287\n",
      "21          soon  0.495593  0.504407\n",
      "22  annamariapdt  0.666667  0.333333\n",
      "26       amazing  0.748646  0.251354\n",
      "27         voice  0.335821  0.664179\n",
      "29     releasing  0.357143  0.642857\n",
      "30         album  0.615917  0.384083\n",
      "31          love  0.699222  0.300778\n",
      "67992.86841450071\n",
      "69978.13158549929\n"
     ]
    }
   ],
   "source": [
    "#construction of likelihoods\n",
    "positive = (lexicon_df[\"positive word count\"]+1)/(lexicon_df['word count']+2)\n",
    "negative = (lexicon_df[\"negative word count\"]+1)/(lexicon_df['word count']+2)\n",
    "likelihoods = pd.DataFrame({\"word\":lexicon_df[\"word\"], \"positive\":positive, \"negative\":negative})\n",
    "print(likelihoods.head(20))\n",
    "\n",
    "print(likelihoods[\"negative\"].sum())\n",
    "print(likelihoods[\"positive\"].sum())"
   ]
  },
  {
   "cell_type": "code",
   "execution_count": 274,
   "metadata": {
    "colab": {
     "base_uri": "https://localhost:8080/"
    },
    "id": "wQqZF2YvIuo0",
    "outputId": "41d88f65-6f06-4a42-b565-cc16f33fa2ab"
   },
   "outputs": [
    {
     "name": "stdout",
     "output_type": "stream",
     "text": [
      "2.5881665875113473\n",
      "2.411833412488653\n"
     ]
    }
   ],
   "source": [
    "#create NBC funtion\n",
    "def nbc(text):\n",
    "  prior_n = 0.5\n",
    "  prior_p = 0.5\n",
    "  text = text.lower()\n",
    "  text = text.translate(str.maketrans('', '', string.punctuation))\n",
    "  text = text.split()\n",
    "  for word in text:\n",
    "    try:\n",
    "      likelihood_n = likelihoods.loc[likelihoods['word'] == word, 'negative'].values[0]\n",
    "      likelihood_p = likelihoods.loc[likelihoods['word'] == word, 'positive'].values[0]\n",
    "      posterior_n = (likelihood_n * prior_n)/((likelihood_n * prior_n) + (likelihood_p * prior_p))\n",
    "      posterior_p = (likelihood_p * prior_p)/(likelihood_n * prior_n + likelihood_p * prior_p)\n",
    "      prior_n = posterior_n\n",
    "      prior_p = posterior_p\n",
    "    except IndexError:\n",
    "     continue\n",
    "  return prior_p, prior_n\n",
    "\n",
    "#test wether there is similar proportion between N and P\n",
    "for i in range(0,50):\n",
    "  p += nbc(df.loc[i, 'Text'])[0]\n",
    "  n += nbc(df.loc[i, 'Text'])[1]\n",
    "print(n)\n",
    "print(p)\n",
    "\n",
    "\n"
   ]
  },
  {
   "cell_type": "code",
   "execution_count": 295,
   "metadata": {
    "colab": {
     "base_uri": "https://localhost:8080/"
    },
    "collapsed": true,
    "id": "YSlVRENiTOEh",
    "outputId": "2ac6e751-bbdd-4560-e02b-35c4752b34fb"
   },
   "outputs": [
    {
     "name": "stdout",
     "output_type": "stream",
     "text": [
      "[0.051125673030604404, 0.7265808881217637, 0.015785026856136863, 0.3319448459837774, 0.02497291092604443, 0.26659315597198047, 0.12166395469697303, 0.9936153124911006, 0.036648787458214885, 0.8119308207085288, 0.4235592450589926, 0.25721854807255223, 0.0006476623080410468, 0.022825059430473187, 0.0037517311618196613, 0.3308907248364132, 0.024348708463585052, 0.5368371656499297, 0.5383177570093458, 0.13368643811882863, 0.9957772613671049, 0.3107290537855997, 0.22192062529503012, 0.003757544937202678, 0.3511180784690492, 0.0008602630882045715, 0.4054054054054055, 0.3410414395125059, 0.0038088372863048676, 0.44665525228483516, 0.10472969343266458, 0.41519728868283945, 0.3785111799815269, 0.115, 0.44271078543876263, 0.5118895226849418, 0.9727019423640744, 0.48984924848621253, 0.24571015714371736, 0.07252111239002018, 0.056238019412756975, 0.2993030678362408, 0.024531258275786214, 0.1085188689247719, 1.4895340935040139e-05, 0.25131952902963867, 0.5010285101984532, 0.006374179765133133, 0.9413663977845245, 0.7299842631092553, 0.8741831293490593, 0.3973942549125306, 0.9368965457961458, 0.551209326149547, 0.5, 0.11019597344635423, 0.18362689589940331, 0.31127691481680336, 0.10348502855173303, 0.5068543701295494, 0.017914072948458076, 0.46, 0.5, 0.25721854807255223, 0.014496464631768848, 0.028252665989598188, 0.19143279172821273, 0.027010210008434402, 0.021207623378330813, 0.6816926597059675, 0.30503314499884926, 0.015463778309838173, 0.4243728491030974, 0.6682259805685499, 0.10608605383383685, 0.006095415121349664, 0.18883636729853065, 0.05045188824070889, 0.1289006488287784, 0.9727546242587682, 0.23497823122022063, 0.14759082258310627, 0.272278976722257, 0.5, 0.06566670320779125, 0.632183908045977, 0.039346019392122976, 0.029374201787994884, 0.004716499263091633, 0.9208103967690527, 0.14759082258310627, 0.23565429334935234, 0.19678814200537975, 0.8619427405606462, 0.6895674348595636, 0.12680026834045935, 0.0004278162430518291, 0.44249943228509664, 0.01093029841031439, 0.9916501219868408, 0.8621089223638471, 0.004553561963930994, 0.189769820971867, 0.36363636363636365, 0.6409630146545708, 0.9727546242587682, 0.035884088891096774, 0.06184206401931332, 0.424, 0.030795799783086667, 0.4849665316951087, 0.9766698749986797, 0.25721854807255223, 0.35485411141660345, 0.03224055919513293, 0.9898154147423661, 0.3228263858888916, 0.06590982309833927, 0.48703494926719265, 0.4150692731068513, 0.0935858249963023, 0.1011484117395288, 0.07390430067546938, 0.0062276421384620285, 0.9727546242587682, 0.9944050870029395, 0.16068689241665862, 0.9097517754869291, 0.7515151515151515, 0.024531258275786214, 0.30466429960914915, 0.0013063358649131425, 0.14759082258310627, 0.0030823939440163756, 0.7814982973893302, 0.12600443210521098, 0.005035897264230182, 0.3522126482827003, 0.9402660217654172, 0.6666666666666666, 0.9070653980304073, 0.41925465838509324, 0.43587304332785604, 7.426874843929533e-06, 0.6453754228126701, 0.04125477275452214, 0.15562570521148042, 0.19103773584905662, 0.23087837258072336, 0.04075977647500521, 0.8945100453299009, 0.6295018211531755, 0.0013967778006913226, 0.00038128656066006345, 0.2001707209234355, 0.014437859042208496, 0.5, 0.5333333333333333, 0.9440559440559441, 0.062955638354942, 0.5, 0.424, 0.46153846153846156, 0.5714285714285714, 0.5603952303813379, 0.8639096565065091, 1.1673006523971118e-05, 0.9815493112117942, 0.9104533802074625, 0.3347566967065955, 0.23998052441580522, 0.445985390434938, 0.5779259111515458, 0.4811706426914516, 0.8038135120916675, 0.02917901534623127, 0.40918668988282947, 0.18759414822297638, 0.7636150740192498, 0.38461538461538464, 0.7663197729422895, 0.1395146523008081, 0.424, 0.2553191489361702, 0.11702696291509909, 0.47348494067253394, 0.2112676056338029, 0.08573350939267105, 0.3969243370430459, 0.8769600872724634, 0.028942861652629243, 0.5672993688921378, 0.053194470994441814, 0.08147357675242868, 0.004068436259097689, 0.6315789473684211, 0.0010763579121840904, 0.14759082258310627, 0.8331809930867567, 0.5977863456437347, 0.24842564196613987, 0.39418526031102097, 0.012733784058632793, 0.09896525660991247, 0.017943539130523715, 0.21617550746245684, 0.4490056983370159, 0.9648964814723907, 0.10898320533419388, 0.2604166666666667, 0.46149110006653105, 0.6928934010152283, 0.5, 0.9117394043389875, 0.9878920576191373, 0.6350255494654866, 0.3, 0.29078385464280393, 0.3598909870692041, 0.5, 0.04943827832085128, 0.10320526904403589, 0.7445341790355052, 0.03514439702089222, 0.3575757575757576, 0.7065501859872065, 0.6655158185988375, 0.9528468969863036, 0.08688176468493138, 1.0143035269087944e-05, 0.3900004262998594, 0.04316737040882187, 0.03232217411763516, 0.9165523263065986, 0.6994611388335293, 7.811046271836953e-06, 0.1482183780482531, 0.5760937827088131, 0.455553356705481, 0.25866205741645903, 0.6778280761300967, 0.0015082070786490156, 0.9828234186068436, 0.9885162069990634, 0.5384615384615384, 0.11840560870222222, 0.15562570521148036, 0.14444976221817632, 0.038530592214466586, 0.003514702259686972, 0.22022742326458847, 0.02497291092604443, 0.7649290284944411, 0.5095329784128065, 0.19595307939314463, 0.07917525143683679, 0.07513661294172883, 0.40918668988282947, 0.47575180193334726, 0.4553173222900385, 0.10340848777245697, 0.34317212445793177, 0.14167806659545737, 0.47980613893376417, 0.20254396829406257, 0.00041736385717209824, 0.9998360820838671, 0.017660612131509757, 0.012632405055803347, 0.1449885628023217, 0.7999999999999999, 0.041534207386269555, 0.11183647674749263, 0.09896525660991247, 0.610562081306297, 0.9717251686391728, 0.011358023212131255, 0.8019643871049146, 0.5, 0.17531180171128508, 0.6394432149087739, 0.5362318840579711, 0.19400283745286565, 0.028655748456087312, 0.6529840304045209, 0.10867977774521051, 0.3813965471102751, 0.2138461067486415, 0.18867617052175215, 0.12580300074379688, 0.6952172437880152, 0.5, 0.4722977256514486, 0.1279620853080569, 0.018197267833839455, 0.011635639269540851, 0.4146919431279621, 0.1615189434232154, 0.21112511379751703, 0.9853955855315215]\n",
      "[0.9488743269693957, 0.2734191118782363, 0.9842149731438632, 0.6680551540162226, 0.9750270890739555, 0.7334068440280196, 0.878336045303027, 0.00638468750889949, 0.9633512125417851, 0.18806917929147113, 0.5764407549410074, 0.7427814519274478, 0.9993523376919589, 0.9771749405695268, 0.9962482688381804, 0.6691092751635869, 0.9756512915364149, 0.46316283435007033, 0.46168224299065413, 0.8663135618811714, 0.004222738632895106, 0.6892709462144002, 0.7780793747049698, 0.9962424550627974, 0.6488819215309507, 0.9991397369117955, 0.5945945945945946, 0.658958560487494, 0.9961911627136951, 0.5533447477151648, 0.8952703065673354, 0.5848027113171606, 0.6214888200184732, 0.885, 0.5572892145612375, 0.4881104773150582, 0.02729805763592559, 0.5101507515137874, 0.7542898428562828, 0.9274788876099798, 0.943761980587243, 0.7006969321637592, 0.9754687417242137, 0.8914811310752281, 0.999985104659065, 0.7486804709703613, 0.4989714898015467, 0.993625820234867, 0.058633602215475485, 0.27001573689074454, 0.1258168706509408, 0.6026057450874694, 0.06310345420385423, 0.44879067385045296, 0.5, 0.8898040265536459, 0.8163731041005966, 0.6887230851831966, 0.8965149714482671, 0.49314562987045074, 0.982085927051542, 0.54, 0.5, 0.7427814519274478, 0.9855035353682311, 0.9717473340104018, 0.8085672082717873, 0.9729897899915656, 0.9787923766216693, 0.31830734029403257, 0.6949668550011507, 0.9845362216901619, 0.5756271508969026, 0.33177401943145013, 0.8939139461661632, 0.9939045848786503, 0.8111636327014693, 0.9495481117592912, 0.8710993511712216, 0.027245375741231686, 0.7650217687797792, 0.8524091774168937, 0.727721023277743, 0.5, 0.9343332967922088, 0.367816091954023, 0.9606539806078771, 0.9706257982120051, 0.9952835007369083, 0.07918960323094719, 0.8524091774168937, 0.7643457066506476, 0.8032118579946202, 0.13805725943935385, 0.3104325651404363, 0.8731997316595406, 0.9995721837569481, 0.5575005677149033, 0.9890697015896855, 0.008349878013159145, 0.1378910776361529, 0.995446438036069, 0.810230179028133, 0.6363636363636364, 0.3590369853454292, 0.027245375741231686, 0.9641159111089032, 0.9381579359806866, 0.576, 0.9692042002169133, 0.5150334683048913, 0.023330125001320274, 0.7427814519274478, 0.6451458885833966, 0.9677594408048671, 0.01018458525763383, 0.6771736141111084, 0.9340901769016606, 0.5129650507328073, 0.5849307268931487, 0.9064141750036977, 0.8988515882604713, 0.9260956993245306, 0.9937723578615381, 0.027245375741231686, 0.00559491299706048, 0.8393131075833414, 0.09024822451307085, 0.24848484848484845, 0.9754687417242137, 0.6953357003908508, 0.998693664135087, 0.8524091774168937, 0.9969176060559837, 0.21850170261066976, 0.873995567894789, 0.9949641027357697, 0.6477873517172996, 0.059733978234582825, 0.3333333333333333, 0.09293460196959269, 0.5807453416149069, 0.564126956672144, 0.9999925731251561, 0.35462457718732987, 0.9587452272454778, 0.8443742947885196, 0.8089622641509434, 0.7691216274192767, 0.9592402235249948, 0.10548995467009906, 0.3704981788468244, 0.9986032221993086, 0.99961871343934, 0.7998292790765645, 0.9855621409577914, 0.5, 0.4666666666666666, 0.05594405594405595, 0.937044361645058, 0.5, 0.576, 0.5384615384615384, 0.42857142857142855, 0.43960476961866213, 0.13609034349349086, 0.999988326993476, 0.018450688788205816, 0.08954661979253756, 0.6652433032934046, 0.7600194755841948, 0.554014609565062, 0.42207408884845427, 0.5188293573085484, 0.19618648790833237, 0.9708209846537688, 0.5908133101171706, 0.8124058517770235, 0.23638492598075023, 0.6153846153846154, 0.23368022705771055, 0.8604853476991919, 0.576, 0.7446808510638298, 0.8829730370849009, 0.5265150593274661, 0.7887323943661971, 0.914266490607329, 0.6030756629569541, 0.12303991272753644, 0.9710571383473707, 0.4327006311078623, 0.9468055290055583, 0.9185264232475714, 0.9959315637409024, 0.3684210526315789, 0.9989236420878159, 0.8524091774168937, 0.16681900691324325, 0.40221365435626527, 0.75157435803386, 0.605814739688979, 0.9872662159413672, 0.9010347433900875, 0.9820564608694764, 0.7838244925375432, 0.550994301662984, 0.03510351852760918, 0.8910167946658061, 0.7395833333333334, 0.538508899933469, 0.30710659898477155, 0.5, 0.08826059566101255, 0.012107942380862737, 0.3649744505345134, 0.7, 0.709216145357196, 0.6401090129307959, 0.5, 0.9505617216791488, 0.8967947309559641, 0.25546582096449477, 0.9648556029791078, 0.6424242424242425, 0.2934498140127934, 0.3344841814011626, 0.047153103013696344, 0.9131182353150685, 0.999989856964731, 0.6099995737001406, 0.9568326295911782, 0.9676778258823648, 0.08344767369340154, 0.30053886116647077, 0.9999921889537281, 0.8517816219517469, 0.423906217291187, 0.544446643294519, 0.7413379425835409, 0.3221719238699034, 0.998491792921351, 0.01717658139315638, 0.01148379300093665, 0.46153846153846156, 0.8815943912977778, 0.8443742947885197, 0.8555502377818236, 0.9614694077855335, 0.996485297740313, 0.7797725767354114, 0.9750270890739555, 0.23507097150555897, 0.4904670215871936, 0.8040469206068555, 0.9208247485631632, 0.9248633870582712, 0.5908133101171706, 0.5242481980666528, 0.5446826777099615, 0.896591512227543, 0.6568278755420682, 0.8583219334045427, 0.5201938610662359, 0.7974560317059374, 0.9995826361428278, 0.00016391791613292164, 0.9823393878684903, 0.9873675949441967, 0.8550114371976784, 0.19999999999999998, 0.9584657926137304, 0.8881635232525072, 0.9010347433900875, 0.389437918693703, 0.02827483136082724, 0.9886419767878688, 0.19803561289508545, 0.5, 0.824688198288715, 0.36055678509122613, 0.463768115942029, 0.8059971625471344, 0.9713442515439127, 0.3470159695954791, 0.8913202222547895, 0.618603452889725, 0.7861538932513584, 0.8113238294782479, 0.8741969992562031, 0.3047827562119848, 0.5, 0.5277022743485513, 0.8720379146919431, 0.9818027321661605, 0.9883643607304591, 0.5853080568720379, 0.8384810565767845, 0.788874886202483, 0.014604414468478492]\n",
      "                        Time  \\\n",
      "0  2023-02-06 10:03:49+00:00   \n",
      "1  2023-02-06 09:55:44+00:00   \n",
      "2  2023-02-06 09:55:22+00:00   \n",
      "3  2023-02-06 08:33:16+00:00   \n",
      "4  2023-02-06 06:56:12+00:00   \n",
      "\n",
      "                                                Text  \n",
      "0  $rsls rebound 🚨🚨🚀🚀🚀\\n————\\n\\n$EDSA\\n$KODK\\n$DO...  \n",
      "1  If youfound this info helpful\\n\\nLike, Share, ...  \n",
      "2  My trade strategy and indicators:\\n⚠️Not Finan...  \n",
      "3  $NVDA one of the most mentioned on wallstreetb...  \n",
      "4  @charliebilello Pleased to have held $AAPL and...  \n"
     ]
    }
   ],
   "source": [
    "positiv_prob = []\n",
    "negative_prob = []\n",
    "for i in range(len(all_tweets)):\n",
    "  p = nbc(all_tweets.loc[i, 'Text'])[0]\n",
    "  n = nbc(all_tweets.loc[i, 'Text'])[1]\n",
    "  positiv_prob.append(p)\n",
    "  negative_prob.append(n)\n",
    "\n",
    "print(positiv_prob)\n",
    "print(negative_prob)\n",
    "all_tweets['positive_prob'] = positiv_prob\n",
    "all_tweets['negative_prob'] = negative_prob\n",
    "\n",
    "\n",
    "\n"
   ]
  },
  {
   "cell_type": "code",
   "execution_count": 307,
   "metadata": {
    "colab": {
     "base_uri": "https://localhost:8080/",
     "height": 472
    },
    "id": "f4czUwbbsMt4",
    "outputId": "37f8954b-697d-4067-a5b8-274accde02f6"
   },
   "outputs": [
    {
     "data": {
      "image/png": "[encoded data removed]",
      "text/plain": [
       "<Figure size 640x480 with 1 Axes>"
      ]
     },
     "metadata": {},
     "output_type": "display_data"
    }
   ],
   "source": [
    "plt.scatter(all_tweets['positive_prob'], all_tweets['Market Sentiment'])\n",
    "plt.xlabel('Sentiment')\n",
    "plt.ylabel('Stock Price Change')\n",
    "plt.title('Sentiment vs. Stock Price Change')\n",
    "plt.show()"
   ]
  },
  {
   "cell_type": "code",
   "execution_count": 305,
   "metadata": {
    "colab": {
     "base_uri": "https://localhost:8080/"
    },
    "id": "fEEuAOuWi78K",
    "outputId": "a467fa75-5fc5-4e93-c393-db16a1cb1ee8"
   },
   "outputs": [
    {
     "name": "stdout",
     "output_type": "stream",
     "text": [
      "                                 OLS Regression Results                                \n",
      "=======================================================================================\n",
      "Dep. Variable:          positive_prob   R-squared (uncentered):                   0.090\n",
      "Model:                            OLS   Adj. R-squared (uncentered):              0.087\n",
      "Method:                 Least Squares   F-statistic:                              29.60\n",
      "Date:                Sun, 22 Sep 2024   Prob (F-statistic):                    1.11e-07\n",
      "Time:                        21:07:40   Log-Likelihood:                         -185.04\n",
      "No. Observations:                 300   AIC:                                      372.1\n",
      "Df Residuals:                     299   BIC:                                      375.8\n",
      "Df Model:                           1                                                  \n",
      "Covariance Type:            nonrobust                                                  \n",
      "====================================================================================\n",
      "                       coef    std err          t      P>|t|      [0.025      0.975]\n",
      "------------------------------------------------------------------------------------\n",
      "Market Sentiment     0.1686      0.031      5.440      0.000       0.108       0.230\n",
      "==============================================================================\n",
      "Omnibus:                       17.329   Durbin-Watson:                   1.061\n",
      "Prob(Omnibus):                  0.000   Jarque-Bera (JB):               16.145\n",
      "Skew:                           0.508   Prob(JB):                     0.000312\n",
      "Kurtosis:                       2.489   Cond. No.                         1.00\n",
      "==============================================================================\n",
      "\n",
      "Notes:\n",
      "[1] R² is computed without centering (uncentered) since the model does not contain a constant.\n",
      "[2] Standard Errors assume that the covariance matrix of the errors is correctly specified.\n"
     ]
    }
   ],
   "source": [
    "import pandas as pd\n",
    "import statsmodels.api as sm\n",
    "\n",
    "import statsmodels.api as sm\n",
    "\n",
    "\n",
    "X = all_tweets['Market Sentiment']\n",
    "y = all_tweets['positive_prob']\n",
    "\n",
    "model = sm.OLS(y, X).fit()\n",
    "print(model.summary())"
   ]
  },
  {
   "cell_type": "markdown",
   "metadata": {
    "id": "BVBuxt2km6Wa"
   },
   "source": [
    "This project aimed to explore the relationship between public sentiment expressed on Twitter and Nvidia's stock price fluctuations. By employing a Naive Bayes Classifier (NBC), we successfully gauged public opinion sentiment from tweets related to Nvidia. The analysis revealed a notable correlation between the sentiment derived from tweets and subsequent stock price changes. This suggests that public sentiment, as captured by the NBC model, can be a valuable indicator of market trends and potential stock price movements.\n",
    "\n",
    "The NBC proved to be an effective tool in analyzing textual data and extracting meaningful insights regarding public sentiment. Its ability to classify tweets into positive and negative categories allowed us to quantify the overall sentiment surrounding Nvidia. The Linear regression p-value (0.00) indicates that there is clear relationship between sentiment and stock price changes since. This underscores the potential of leveraging social media data for market analysis and prediction.\n",
    "\n",
    "While this project provides a preliminary exploration, further research could delve into refining the sentiment analysis techniques, incorporating a larger dataset, and exploring the impact of different timeframes on the observed relationship. Nevertheless, the findings highlight the potential of harnessing public sentiment analysis, particularly through methods like NBC, to gain valuable insights into market dynamics and inform investment decisions.\n",
    "\n"
   ]
  }
 ],
 "metadata": {
  "colab": {
   "provenance": []
  },
  "kernelspec": {
   "display_name": "Python 3 (ipykernel)",
   "language": "python",
   "name": "python3"
  },
  "language_info": {
   "codemirror_mode": {
    "name": "ipython",
    "version": 3
   },
   "file_extension": ".py",
   "mimetype": "text/x-python",
   "name": "python",
   "nbconvert_exporter": "python",
   "pygments_lexer": "ipython3",
   "version": "3.9.12"
  }
 },
 "nbformat": 4,
 "nbformat_minor": 1
}
